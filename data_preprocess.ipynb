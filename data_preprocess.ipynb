{
 "cells": [
  {
   "cell_type": "code",
   "execution_count": 2,
   "id": "e4ebf824",
   "metadata": {},
   "outputs": [],
   "source": [
    "import os\n",
    "import numpy as np\n",
    "import matplotlib.pyplot as plt\n",
    "import pandas as pd\n",
    "from utils import watershed_image, cut_cells, make_data\n",
    "import random\n",
    "from glob import glob\n",
    "import shutil"
   ]
  },
  {
   "cell_type": "markdown",
   "id": "7719a9f6",
   "metadata": {},
   "source": [
    "# Download patient info including id, label and cell rate"
   ]
  },
  {
   "cell_type": "code",
   "execution_count": 4,
   "id": "7b622bd8",
   "metadata": {},
   "outputs": [],
   "source": [
    "img_dir = '../o_test/'\n",
    "save_dir = './segmentation_results/npy/'\n",
    "mat_dir = './segmentation_results/mat/'\n",
    "patient_info_path = './patient_info.csv'\n",
    "patient_id = np.array(pd.read_csv(patient_info_path,usecols=['patient id'],squeeze=True),dtype='str')\n",
    "patient_label = np.array(pd.read_csv(patient_info_path,usecols=['label'],squeeze=True),dtype='int')\n",
    "cell_rate = np.array(pd.read_csv(patient_info_path,usecols=['cell rate'],squeeze=True),dtype='float')"
   ]
  },
  {
   "cell_type": "markdown",
   "id": "3cff7d82",
   "metadata": {},
   "source": [
    "# Make data (a npy file per patient)"
   ]
  },
  {
   "cell_type": "code",
   "execution_count": null,
   "id": "67fcec6f",
   "metadata": {},
   "outputs": [],
   "source": [
    "patient_num = len(patient_id)\n",
    "if not os.path.exists(save_dir):\n",
    "    os.mkdir(save_dir)\n",
    "for i in range(patient_num):\n",
    "    patient_data = make_data(img_dir, mat_dir, patient_id[i], patient_label[i], cell_rate[i])\n",
    "    np.save(save_dir + patient_id[i] + '.npy', patient_data)"
   ]
  },
  {
   "cell_type": "markdown",
   "id": "ad303db4",
   "metadata": {},
   "source": [
    "# Make sampling ( n cells per sample)"
   ]
  },
  {
   "cell_type": "code",
   "execution_count": null,
   "id": "48f6078c",
   "metadata": {},
   "outputs": [],
   "source": [
    "npy_dir = './segmentation_results/npy/'\n",
    "sampling_save_dir = './segmentation_results/sampling/'\n",
    "if not os.path.exists(sampling_save_dir):\n",
    "    os.mkdir(sampling_save_dir)\n",
    "sample_num = 50 # define the number of cells per sample\n",
    "for patient in patient_id:\n",
    "    i = 1\n",
    "    npy_name = npy_dir + patient + '.npy'\n",
    "    data = np.load(npy_name, allow_pickle=True)[()]\n",
    "    p_label = data['p_label']\n",
    "    c_rate = data['c_rate']\n",
    "    cells = data['c_images']\n",
    "    cells_insts = data['c_insts']\n",
    "    num_cells = len(cells)\n",
    "    original_list = list(range(0,num_cells))\n",
    "    all_ = original_list.copy()\n",
    "    while num_cells>0:\n",
    "        sub_npy_name = sampling_save_dir + patient + '_' + str(i) + '.npy'\n",
    "        i = i+1\n",
    "        sub_patient = {}\n",
    "        sub_cells = []\n",
    "        sub_cells_insts = []\n",
    "\n",
    "        if num_cells<sample_num:\n",
    "            for idx in all_:\n",
    "                sub_cells.append(cells[idx])\n",
    "                sub_cells_insts.append(cells_insts[idx])\n",
    "            while len(sub_cells)<sample_num:\n",
    "                r = random.choice(original_list)\n",
    "                sub_cells.append(cells[r])\n",
    "                sub_cells_insts.append(cells_insts[r])\n",
    "        else:\n",
    "            choices = random.sample(all_, sample_num)\n",
    "            for c in choices:\n",
    "                sub_cells.append(cells[c])\n",
    "                sub_cells_insts.append(cells_insts[c])\n",
    "                all_.remove(c)\n",
    "\n",
    "        sub_patient['p_label'] = p_label\n",
    "        sub_patient['c_rate'] = c_rate\n",
    "        sub_patient['c_images'] = sub_cells\n",
    "        sub_patient['c_insts'] = sub_cells_insts\n",
    "        np.save(sub_npy_name, sub_patient)\n",
    "        num_cells = num_cells - sample_num"
   ]
  },
  {
   "cell_type": "markdown",
   "id": "0e3a4c89",
   "metadata": {},
   "source": [
    "# Divide samples into k folds"
   ]
  },
  {
   "cell_type": "code",
   "execution_count": null,
   "id": "6b6d1c4d",
   "metadata": {},
   "outputs": [],
   "source": [
    "patient_num = len(patient_id)\n",
    "disease_12=[[] for i in range(12)]\n",
    "for i in range(patient_num):\n",
    "    disease_12[patient_label[i]].append(patient_id[i])\n",
    "\n",
    "k = 5\n",
    "sample_dir = './segmentation_results/sampling/'\n",
    "save_dir = './dataset/'\n",
    "for i in disease_12:\n",
    "    num = len(i)\n",
    "    each = num//k\n",
    "    original_list = list(range(0,num))\n",
    "    all_ = original_list.copy()\n",
    "    for j in range(k):\n",
    "        dst_dir = save_dir + 'fold{}/'.format(j+1)\n",
    "        if not os.path.exists(dst_dir):\n",
    "            os.mkdir(dst_dir)\n",
    "        if j == k-1:\n",
    "            for d in all_:\n",
    "                npys = glob(sample_dir + i[d] + '*npy')\n",
    "                for npy in npys:\n",
    "                    shutil.copy(npy, npy.replace(sample_dir, dst_dir))\n",
    "        else:\n",
    "            choices = random.sample(all_, each)\n",
    "            for c in choices:\n",
    "                npys = glob(sample_dir + i[c] + '*npy')\n",
    "                for npy in npys:\n",
    "                    shutil.copy(npy, npy.replace(sample_dir, dst_dir))\n",
    "                all_.remove(c)"
   ]
  }
 ],
 "metadata": {
  "kernelspec": {
   "display_name": "Python 3 (ipykernel)",
   "language": "python",
   "name": "python3"
  },
  "language_info": {
   "codemirror_mode": {
    "name": "ipython",
    "version": 3
   },
   "file_extension": ".py",
   "mimetype": "text/x-python",
   "name": "python",
   "nbconvert_exporter": "python",
   "pygments_lexer": "ipython3",
   "version": "3.7.12"
  }
 },
 "nbformat": 4,
 "nbformat_minor": 5
}
