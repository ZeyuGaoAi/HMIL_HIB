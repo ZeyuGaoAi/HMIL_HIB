{
 "cells": [
  {
   "cell_type": "code",
   "execution_count": 3,
   "id": "43f3b4e5",
   "metadata": {},
   "outputs": [],
   "source": [
    "import torch\n",
    "import logging\n",
    "import os\n",
    "import copy\n",
    "from docopt import docopt\n",
    "import sys\n",
    "import numpy as np\n",
    "from glob import glob\n",
    "import scipy.io as sio\n",
    "import cv2\n",
    "from PIL import Image\n",
    "import shutil"
   ]
  },
  {
   "cell_type": "code",
   "execution_count": 6,
   "id": "4f4e3827",
   "metadata": {},
   "outputs": [
    {
     "name": "stdout",
     "output_type": "stream",
     "text": [
      "\u001b[1m\u001b[31mWARNING\u001b[0m: Detect checkpoint saved in data-parallel mode. Converting saved model to single GPU mode.\n"
     ]
    },
    {
     "name": "stderr",
     "output_type": "stream",
     "text": [
      "Process Patches: 100%|###################9| 11840/11841 [08:34<00:00, 23.02it/s]\n",
      "Process Patches:  98%|#########################3| 40/41 [00:01<00:00, 24.53it/s]\n"
     ]
    }
   ],
   "source": [
    "gpu_list = '0' # the gpu you use\n",
    "os.environ['CUDA_VISIBLE_DEVICES'] = gpu_list\n",
    "image_dir = '../../o_test/'\n",
    "output_dir = '../segmentation_results/'\n"
    "model_path = './logs/net_epoch=50.tar'\n",
    "\n",
    "nr_types = None\n",
    "method_args = {\n",
    "    'method' : {\n",
    "        'model_args' : {\n",
    "            'nr_types'   : nr_types,\n",
    "            'mode'       : 'fast',\n",
    "        },\n",
    "        'model_path' : model_path, # the path of fine-tuned model\n",
    "    },\n",
    "    'type_info_path'  : None,\n",
    "}\n",
    "\n",
    "# ***\n",
    "run_args = {\n",
    "    'batch_size' : 1,\n",
    "\n",
    "    'nr_inference_workers' : 0,\n",
    "    'nr_post_proc_workers' : 0,\n",
    "}\n",
    "\n",
    "run_args['patch_input_shape'] = 256\n",
    "run_args['patch_output_shape'] = 164\n",
    "\n",
    "\n",
    "run_args.update({\n",
    "    'input_dir'      : image_dir,  # the path of images\n",
    "    'output_dir'     : output_dir, # the path of the results of segmentation\n",
    "    'mem_usage'   : 0.1,\n",
    "    'draw_dot'    : False,\n",
    "    'save_qupath' : False,\n",
    "    'save_raw_map': False,\n",
    "})\n",
    "\n",
    "from infer.tile import InferManager\n",
    "infer = InferManager(**method_args)\n",
    "infer.process_file_list(run_args)"
   ]
  },
  {
   "cell_type": "code",
   "execution_count": null,
   "id": "9c54e615",
   "metadata": {},
   "outputs": [],
   "source": []
  }
 ],
 "metadata": {
  "kernelspec": {
   "display_name": "Python 3 (ipykernel)",
   "language": "python",
   "name": "python3"
  },
  "language_info": {
   "codemirror_mode": {
    "name": "ipython",
    "version": 3
   },
   "file_extension": ".py",
   "mimetype": "text/x-python",
   "name": "python",
   "nbconvert_exporter": "python",
   "pygments_lexer": "ipython3",
   "version": "3.7.12"
  }
 },
 "nbformat": 4,
 "nbformat_minor": 5
}
